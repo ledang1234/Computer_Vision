{
 "cells": [
  {
   "cell_type": "markdown",
   "id": "000ef6c1-fce5-448e-868b-2e137adeb413",
   "metadata": {},
   "source": [
    "# Keras Basics\n",
    "\n",
    "Welcome to the section on deep learning! We'll be using Keras with a TensorFlow backend to perform our deep learning operations."
   ]
  },
  {
   "cell_type": "code",
   "execution_count": 1,
   "id": "793bd1e7-6574-4184-8128-a910f3ac554b",
   "metadata": {},
   "outputs": [],
   "source": [
    "import numpy as np\n",
    "from numpy import genfromtxt\n"
   ]
  },
  {
   "cell_type": "markdown",
   "id": "a6e22f7f-805a-43e0-a3a6-4f9ada85afcf",
   "metadata": {},
   "source": [
    "## Reading in the Data Set"
   ]
  },
  {
   "cell_type": "code",
   "execution_count": 2,
   "id": "07e5f8eb-9177-4168-b1a3-d5ab944940ab",
   "metadata": {},
   "outputs": [],
   "source": [
    "data = genfromtxt('../DATA/bank_note_data.txt', delimiter=',')"
   ]
  },
  {
   "cell_type": "code",
   "execution_count": 3,
   "id": "25629205-a6bf-42cc-ab0b-be2bcc761ac3",
   "metadata": {},
   "outputs": [
    {
     "data": {
      "text/plain": [
       "array([[  3.6216 ,   8.6661 ,  -2.8073 ,  -0.44699,   0.     ],\n",
       "       [  4.5459 ,   8.1674 ,  -2.4586 ,  -1.4621 ,   0.     ],\n",
       "       [  3.866  ,  -2.6383 ,   1.9242 ,   0.10645,   0.     ],\n",
       "       ...,\n",
       "       [ -3.7503 , -13.4586 ,  17.5932 ,  -2.7771 ,   1.     ],\n",
       "       [ -3.5637 ,  -8.3827 ,  12.393  ,  -1.2823 ,   1.     ],\n",
       "       [ -2.5419 ,  -0.65804,   2.6842 ,   1.1952 ,   1.     ]])"
      ]
     },
     "execution_count": 3,
     "metadata": {},
     "output_type": "execute_result"
    }
   ],
   "source": [
    "data"
   ]
  },
  {
   "cell_type": "code",
   "execution_count": 4,
   "id": "6b6a7f5b-cccd-437c-836d-caa0add835d7",
   "metadata": {},
   "outputs": [],
   "source": [
    "labels = data[:,4]"
   ]
  },
  {
   "cell_type": "code",
   "execution_count": 5,
   "id": "23d85341-affa-4647-bbfd-f2f7095974d3",
   "metadata": {},
   "outputs": [
    {
     "data": {
      "text/plain": [
       "array([0., 0., 0., ..., 1., 1., 1.])"
      ]
     },
     "execution_count": 5,
     "metadata": {},
     "output_type": "execute_result"
    }
   ],
   "source": [
    "labels"
   ]
  },
  {
   "cell_type": "code",
   "execution_count": 6,
   "id": "08f39858-11fb-4c45-8259-8935ee60f432",
   "metadata": {},
   "outputs": [],
   "source": [
    "features = data[:, 0:4]"
   ]
  },
  {
   "cell_type": "code",
   "execution_count": 7,
   "id": "8e5dcc9e-3210-4488-a690-24fb30e66495",
   "metadata": {},
   "outputs": [
    {
     "data": {
      "text/plain": [
       "array([[  3.6216 ,   8.6661 ,  -2.8073 ,  -0.44699],\n",
       "       [  4.5459 ,   8.1674 ,  -2.4586 ,  -1.4621 ],\n",
       "       [  3.866  ,  -2.6383 ,   1.9242 ,   0.10645],\n",
       "       ...,\n",
       "       [ -3.7503 , -13.4586 ,  17.5932 ,  -2.7771 ],\n",
       "       [ -3.5637 ,  -8.3827 ,  12.393  ,  -1.2823 ],\n",
       "       [ -2.5419 ,  -0.65804,   2.6842 ,   1.1952 ]])"
      ]
     },
     "execution_count": 7,
     "metadata": {},
     "output_type": "execute_result"
    }
   ],
   "source": [
    "features"
   ]
  },
  {
   "cell_type": "code",
   "execution_count": 8,
   "id": "180cf773-4f93-4704-b38d-fa4c79a965f4",
   "metadata": {},
   "outputs": [],
   "source": [
    "X = features\n",
    "y = labels"
   ]
  },
  {
   "cell_type": "markdown",
   "id": "78f458cd-5d4b-48fe-81cb-c8ac409a21ac",
   "metadata": {},
   "source": [
    "## Split the Data into Training and Test\n",
    "\n",
    "Its time to split the data into a train/test set. Keep in mind, sometimes people like to split 3 ways, train/test/validation. We'll keep things simple for now. **Remember to check out the video explanation as to why we split and what all the parameters mean!**"
   ]
  },
  {
   "cell_type": "code",
   "execution_count": 9,
   "id": "0137aeee-7f1a-47a9-9c72-c1d0c55fcd11",
   "metadata": {},
   "outputs": [],
   "source": [
    "from sklearn.model_selection import train_test_split"
   ]
  },
  {
   "cell_type": "code",
   "execution_count": 10,
   "id": "5c3ef1ca-c6e4-4ac2-b0f6-72bcd2d0f105",
   "metadata": {},
   "outputs": [],
   "source": [
    "X_train, X_test, y_train, y_test = train_test_split(X, y, test_size=0.33, random_state=42)"
   ]
  },
  {
   "cell_type": "markdown",
   "id": "b83638f0-56ce-42a4-8ad0-fc422b2c6833",
   "metadata": {},
   "source": [
    "## Standardizing the Data\n",
    "\n",
    "Usually when using Neural Networks, you will get better performance when you standardize the data. Standardization just means normalizing the values to all fit between a certain range, like 0-1, or -1 to 1.\n",
    "\n",
    "The scikit learn library also provides a nice function for this."
   ]
  },
  {
   "cell_type": "code",
   "execution_count": 12,
   "id": "33e379f8-c1fb-4df9-bdf2-38bcc6d5fcac",
   "metadata": {},
   "outputs": [],
   "source": [
    "from sklearn.preprocessing import MinMaxScaler"
   ]
  },
  {
   "cell_type": "code",
   "execution_count": 13,
   "id": "e69dea23-2951-4f8b-a164-83681d0edea8",
   "metadata": {},
   "outputs": [],
   "source": [
    "scaler_object = MinMaxScaler()"
   ]
  },
  {
   "cell_type": "code",
   "execution_count": 14,
   "id": "6d5e030e-126d-4bb1-91fc-89618677531e",
   "metadata": {},
   "outputs": [
    {
     "data": {
      "text/plain": [
       "MinMaxScaler(copy=True, feature_range=(0, 1))"
      ]
     },
     "execution_count": 14,
     "metadata": {},
     "output_type": "execute_result"
    }
   ],
   "source": [
    "scaler_object.fit(X_train)"
   ]
  },
  {
   "cell_type": "code",
   "execution_count": 15,
   "id": "d2f91912-d701-40c7-8073-337a2ca2f978",
   "metadata": {},
   "outputs": [],
   "source": [
    "scale_X_train = scaler_object.transform(X_train)"
   ]
  },
  {
   "cell_type": "code",
   "execution_count": 16,
   "id": "74c100c5-5b14-4745-8cf2-27b69534a4a6",
   "metadata": {},
   "outputs": [],
   "source": [
    "scale_X_test = scaler_object.transform(X_test)"
   ]
  },
  {
   "cell_type": "markdown",
   "id": "08eb068f-dffd-4140-b383-fa226de5622d",
   "metadata": {},
   "source": [
    "## Building the Network with Keras\n",
    "\n",
    "Let's build a simple neural network!"
   ]
  },
  {
   "cell_type": "code",
   "execution_count": 18,
   "id": "e75f8e4e-4fdb-4568-825b-ae622440a182",
   "metadata": {},
   "outputs": [],
   "source": [
    "from keras.models import Sequential\n",
    "from keras.layers import Dense"
   ]
  },
  {
   "cell_type": "code",
   "execution_count": 22,
   "id": "dff443bf-f13a-4421-908e-dfa76f1b5f63",
   "metadata": {},
   "outputs": [],
   "source": [
    "model = Sequential()\n",
    "model.add(Dense(4, input_dim=4, activation='relu'))\n",
    "model.add(Dense(8, activation='relu')) # hidden layers\n",
    "model.add(Dense(1, activation='sigmoid'))\n"
   ]
  },
  {
   "cell_type": "markdown",
   "id": "b76bc8ea-c82c-4746-842d-5310319c3fd5",
   "metadata": {},
   "source": [
    "### Compile Model"
   ]
  },
  {
   "cell_type": "code",
   "execution_count": 24,
   "id": "f2809dfc-9610-4684-8781-bcd0e65b1c51",
   "metadata": {},
   "outputs": [],
   "source": [
    "model.compile(loss='binary_crossentropy', optimizer='adam', metrics=['accuracy'])"
   ]
  },
  {
   "cell_type": "markdown",
   "id": "590b0874-87d0-4825-81d6-cde3874a9023",
   "metadata": {},
   "source": [
    "## Fit (Train) the Model"
   ]
  },
  {
   "cell_type": "code",
   "execution_count": 25,
   "id": "7e34373a-3a04-4969-aceb-8b9b00537569",
   "metadata": {},
   "outputs": [
    {
     "name": "stdout",
     "output_type": "stream",
     "text": [
      "Epoch 1/50\n",
      " - 0s - loss: 0.6895 - acc: 0.5223\n",
      "Epoch 2/50\n",
      " - 0s - loss: 0.6694 - acc: 0.7160\n",
      "Epoch 3/50\n",
      " - 0s - loss: 0.6480 - acc: 0.6366\n",
      "Epoch 4/50\n",
      " - 0s - loss: 0.6321 - acc: 0.6246\n",
      "Epoch 5/50\n",
      " - 0s - loss: 0.6154 - acc: 0.6540\n",
      "Epoch 6/50\n",
      " - 0s - loss: 0.5976 - acc: 0.7225\n",
      "Epoch 7/50\n",
      " - 0s - loss: 0.5771 - acc: 0.7693\n",
      "Epoch 8/50\n",
      " - 0s - loss: 0.5565 - acc: 0.7965\n",
      "Epoch 9/50\n",
      " - 0s - loss: 0.5353 - acc: 0.8009\n",
      "Epoch 10/50\n",
      " - 0s - loss: 0.5146 - acc: 0.8052\n",
      "Epoch 11/50\n",
      " - 0s - loss: 0.4946 - acc: 0.8270\n",
      "Epoch 12/50\n",
      " - 0s - loss: 0.4765 - acc: 0.8324\n",
      "Epoch 13/50\n",
      " - 0s - loss: 0.4582 - acc: 0.8390\n",
      "Epoch 14/50\n",
      " - 0s - loss: 0.4413 - acc: 0.8455\n",
      "Epoch 15/50\n",
      " - 0s - loss: 0.4253 - acc: 0.8575\n",
      "Epoch 16/50\n",
      " - 0s - loss: 0.4115 - acc: 0.8618\n",
      "Epoch 17/50\n",
      " - 0s - loss: 0.3966 - acc: 0.8683\n",
      "Epoch 18/50\n",
      " - 0s - loss: 0.3825 - acc: 0.8760\n",
      "Epoch 19/50\n",
      " - 0s - loss: 0.3706 - acc: 0.8847\n",
      "Epoch 20/50\n",
      " - 0s - loss: 0.3564 - acc: 0.8857\n",
      "Epoch 21/50\n",
      " - 0s - loss: 0.3448 - acc: 0.8879\n",
      "Epoch 22/50\n",
      " - 0s - loss: 0.3337 - acc: 0.8977\n",
      "Epoch 23/50\n",
      " - 0s - loss: 0.3222 - acc: 0.9010\n",
      "Epoch 24/50\n",
      " - 0s - loss: 0.3125 - acc: 0.8966\n",
      "Epoch 25/50\n",
      " - 0s - loss: 0.3018 - acc: 0.8999\n",
      "Epoch 26/50\n",
      " - 0s - loss: 0.2919 - acc: 0.9075\n",
      "Epoch 27/50\n",
      " - 0s - loss: 0.2831 - acc: 0.9129\n",
      "Epoch 28/50\n",
      " - 0s - loss: 0.2741 - acc: 0.9151\n",
      "Epoch 29/50\n",
      " - 0s - loss: 0.2656 - acc: 0.9217\n",
      "Epoch 30/50\n",
      " - 0s - loss: 0.2572 - acc: 0.9249\n",
      "Epoch 31/50\n",
      " - 0s - loss: 0.2502 - acc: 0.9238\n",
      "Epoch 32/50\n",
      " - 0s - loss: 0.2426 - acc: 0.9293\n",
      "Epoch 33/50\n",
      " - 0s - loss: 0.2358 - acc: 0.9304\n",
      "Epoch 34/50\n",
      " - 0s - loss: 0.2292 - acc: 0.9314\n",
      "Epoch 35/50\n",
      " - 0s - loss: 0.2214 - acc: 0.9347\n",
      "Epoch 36/50\n",
      " - 0s - loss: 0.2156 - acc: 0.9380\n",
      "Epoch 37/50\n",
      " - 0s - loss: 0.2096 - acc: 0.9391\n",
      "Epoch 38/50\n",
      " - 0s - loss: 0.2037 - acc: 0.9402\n",
      "Epoch 39/50\n",
      " - 0s - loss: 0.1981 - acc: 0.9402\n",
      "Epoch 40/50\n",
      " - 0s - loss: 0.1921 - acc: 0.9402\n",
      "Epoch 41/50\n",
      " - 0s - loss: 0.1870 - acc: 0.9445\n",
      "Epoch 42/50\n",
      " - 0s - loss: 0.1819 - acc: 0.9423\n",
      "Epoch 43/50\n",
      " - 0s - loss: 0.1780 - acc: 0.9402\n",
      "Epoch 44/50\n",
      " - 0s - loss: 0.1723 - acc: 0.9456\n",
      "Epoch 45/50\n",
      " - 0s - loss: 0.1679 - acc: 0.9467\n",
      "Epoch 46/50\n",
      " - 0s - loss: 0.1633 - acc: 0.9456\n",
      "Epoch 47/50\n",
      " - 0s - loss: 0.1601 - acc: 0.9434\n",
      "Epoch 48/50\n",
      " - 0s - loss: 0.1549 - acc: 0.9478\n",
      "Epoch 49/50\n",
      " - 0s - loss: 0.1517 - acc: 0.9478\n",
      "Epoch 50/50\n",
      " - 0s - loss: 0.1474 - acc: 0.9467\n"
     ]
    },
    {
     "data": {
      "text/plain": [
       "<keras.callbacks.History at 0x124a259e8>"
      ]
     },
     "execution_count": 25,
     "metadata": {},
     "output_type": "execute_result"
    }
   ],
   "source": [
    "model.fit(scale_X_train, y_train,epochs=50, verbose=2)"
   ]
  },
  {
   "cell_type": "markdown",
   "id": "8f712ef9-0d89-4c0b-b4f9-9d86e4de6429",
   "metadata": {},
   "source": [
    "## Predicting New Unseen Data\n"
   ]
  },
  {
   "cell_type": "code",
   "execution_count": 27,
   "id": "50299c72-2c60-4eb7-9462-315a3003f1af",
   "metadata": {},
   "outputs": [],
   "source": [
    "# model.predict_classes(scale_X_test)"
   ]
  },
  {
   "cell_type": "markdown",
   "id": "c6d3ce4a-74eb-4757-965a-86f7cc6230ff",
   "metadata": {},
   "source": [
    "# Evaluating Model Performance\n",
    "\n",
    "So how well did we do? How do we actually measure \"well\". Is 95% accuracy good enough? It all depends on the situation. Also we need to take into account things like recall and precision. Make sure to watch the video discussion on classification evaluation before running this code!"
   ]
  },
  {
   "cell_type": "code",
   "execution_count": 28,
   "id": "1d1fd6ea-8ccb-48fd-ba95-46d0551bdee8",
   "metadata": {},
   "outputs": [
    {
     "data": {
      "text/plain": [
       "['loss', 'acc']"
      ]
     },
     "execution_count": 28,
     "metadata": {},
     "output_type": "execute_result"
    }
   ],
   "source": [
    "model.metrics_names"
   ]
  },
  {
   "cell_type": "code",
   "execution_count": 29,
   "id": "340a49ea-cd44-4b54-9c3e-ddb0e558c346",
   "metadata": {},
   "outputs": [],
   "source": [
    "from sklearn.metrics import confusion_matrix, classification_report"
   ]
  },
  {
   "cell_type": "code",
   "execution_count": 30,
   "id": "1be9107d-6d71-4e67-a2f9-dbf4d5bbb1e7",
   "metadata": {},
   "outputs": [],
   "source": [
    "predictions = model.predict_classes(scale_X_test)"
   ]
  },
  {
   "cell_type": "code",
   "execution_count": 31,
   "id": "572a334c-6767-4cba-8081-722055841351",
   "metadata": {},
   "outputs": [
    {
     "data": {
      "text/plain": [
       "array([[253,   4],\n",
       "       [ 15, 181]])"
      ]
     },
     "execution_count": 31,
     "metadata": {},
     "output_type": "execute_result"
    }
   ],
   "source": [
    "confusion_matrix(y_test,predictions)"
   ]
  },
  {
   "cell_type": "code",
   "execution_count": 32,
   "id": "3177781c-46f1-4ab6-9c2f-34b8d305bb96",
   "metadata": {},
   "outputs": [
    {
     "name": "stdout",
     "output_type": "stream",
     "text": [
      "             precision    recall  f1-score   support\n",
      "\n",
      "        0.0       0.94      0.98      0.96       257\n",
      "        1.0       0.98      0.92      0.95       196\n",
      "\n",
      "avg / total       0.96      0.96      0.96       453\n",
      "\n"
     ]
    }
   ],
   "source": [
    "print(classification_report(y_test,predictions))"
   ]
  },
  {
   "cell_type": "markdown",
   "id": "6b6069d6-cb0c-4fed-ae95-d5949baea94e",
   "metadata": {},
   "source": [
    "## Saving and Loading Models\n",
    "\n",
    "Now that we have a model trained, let's see how we can save and load it."
   ]
  },
  {
   "cell_type": "code",
   "execution_count": 33,
   "id": "8ddbb915-194a-45bb-ae94-259e921d0a57",
   "metadata": {},
   "outputs": [],
   "source": [
    "model.save('mymodel.h5')"
   ]
  },
  {
   "cell_type": "code",
   "execution_count": 34,
   "id": "da9457b1-044d-4d45-812a-5a932c7a17aa",
   "metadata": {},
   "outputs": [],
   "source": [
    "from keras.models import load_model"
   ]
  },
  {
   "cell_type": "code",
   "execution_count": 35,
   "id": "81f7c971-c697-4571-ac90-86f343a4bef6",
   "metadata": {},
   "outputs": [],
   "source": [
    "newmodel = load_model('mymodel.h5')"
   ]
  },
  {
   "cell_type": "code",
   "execution_count": 36,
   "id": "e2be799d-a357-40b3-bc5e-cae34720c5ff",
   "metadata": {},
   "outputs": [
    {
     "data": {
      "text/plain": [
       "array([[0],\n",
       "       [0],\n",
       "       [0],\n",
       "       [0],\n",
       "       [0],\n",
       "       [0],\n",
       "       [0],\n",
       "       [0],\n",
       "       [0],\n",
       "       [0],\n",
       "       [1],\n",
       "       [1],\n",
       "       [0],\n",
       "       [1],\n",
       "       [1],\n",
       "       [0],\n",
       "       [1],\n",
       "       [1],\n",
       "       [1],\n",
       "       [1],\n",
       "       [0],\n",
       "       [0],\n",
       "       [1],\n",
       "       [0],\n",
       "       [1],\n",
       "       [0],\n",
       "       [0],\n",
       "       [1],\n",
       "       [0],\n",
       "       [0],\n",
       "       [1],\n",
       "       [0],\n",
       "       [0],\n",
       "       [1],\n",
       "       [1],\n",
       "       [0],\n",
       "       [1],\n",
       "       [1],\n",
       "       [1],\n",
       "       [0],\n",
       "       [0],\n",
       "       [1],\n",
       "       [1],\n",
       "       [0],\n",
       "       [1],\n",
       "       [1],\n",
       "       [1],\n",
       "       [0],\n",
       "       [0],\n",
       "       [0],\n",
       "       [0],\n",
       "       [0],\n",
       "       [0],\n",
       "       [0],\n",
       "       [0],\n",
       "       [1],\n",
       "       [0],\n",
       "       [0],\n",
       "       [0],\n",
       "       [0],\n",
       "       [1],\n",
       "       [0],\n",
       "       [0],\n",
       "       [0],\n",
       "       [0],\n",
       "       [0],\n",
       "       [0],\n",
       "       [0],\n",
       "       [1],\n",
       "       [0],\n",
       "       [1],\n",
       "       [0],\n",
       "       [1],\n",
       "       [0],\n",
       "       [1],\n",
       "       [0],\n",
       "       [0],\n",
       "       [1],\n",
       "       [1],\n",
       "       [1],\n",
       "       [1],\n",
       "       [0],\n",
       "       [0],\n",
       "       [0],\n",
       "       [0],\n",
       "       [0],\n",
       "       [0],\n",
       "       [1],\n",
       "       [0],\n",
       "       [0],\n",
       "       [0],\n",
       "       [0],\n",
       "       [1],\n",
       "       [1],\n",
       "       [0],\n",
       "       [1],\n",
       "       [1],\n",
       "       [0],\n",
       "       [0],\n",
       "       [0],\n",
       "       [1],\n",
       "       [0],\n",
       "       [0],\n",
       "       [0],\n",
       "       [1],\n",
       "       [0],\n",
       "       [0],\n",
       "       [0],\n",
       "       [1],\n",
       "       [1],\n",
       "       [1],\n",
       "       [1],\n",
       "       [0],\n",
       "       [1],\n",
       "       [1],\n",
       "       [1],\n",
       "       [0],\n",
       "       [1],\n",
       "       [1],\n",
       "       [0],\n",
       "       [1],\n",
       "       [0],\n",
       "       [1],\n",
       "       [0],\n",
       "       [0],\n",
       "       [0],\n",
       "       [1],\n",
       "       [1],\n",
       "       [0],\n",
       "       [1],\n",
       "       [1],\n",
       "       [0],\n",
       "       [0],\n",
       "       [0],\n",
       "       [0],\n",
       "       [0],\n",
       "       [1],\n",
       "       [0],\n",
       "       [0],\n",
       "       [1],\n",
       "       [0],\n",
       "       [0],\n",
       "       [1],\n",
       "       [0],\n",
       "       [1],\n",
       "       [0],\n",
       "       [0],\n",
       "       [0],\n",
       "       [1],\n",
       "       [0],\n",
       "       [0],\n",
       "       [1],\n",
       "       [1],\n",
       "       [0],\n",
       "       [1],\n",
       "       [0],\n",
       "       [1],\n",
       "       [0],\n",
       "       [0],\n",
       "       [0],\n",
       "       [1],\n",
       "       [1],\n",
       "       [1],\n",
       "       [1],\n",
       "       [1],\n",
       "       [0],\n",
       "       [1],\n",
       "       [0],\n",
       "       [0],\n",
       "       [0],\n",
       "       [0],\n",
       "       [0],\n",
       "       [0],\n",
       "       [1],\n",
       "       [0],\n",
       "       [0],\n",
       "       [1],\n",
       "       [1],\n",
       "       [0],\n",
       "       [0],\n",
       "       [0],\n",
       "       [0],\n",
       "       [1],\n",
       "       [0],\n",
       "       [1],\n",
       "       [0],\n",
       "       [1],\n",
       "       [1],\n",
       "       [0],\n",
       "       [0],\n",
       "       [1],\n",
       "       [0],\n",
       "       [0],\n",
       "       [1],\n",
       "       [1],\n",
       "       [1],\n",
       "       [1],\n",
       "       [0],\n",
       "       [1],\n",
       "       [1],\n",
       "       [1],\n",
       "       [1],\n",
       "       [0],\n",
       "       [0],\n",
       "       [1],\n",
       "       [1],\n",
       "       [1],\n",
       "       [1],\n",
       "       [0],\n",
       "       [0],\n",
       "       [0],\n",
       "       [0],\n",
       "       [0],\n",
       "       [0],\n",
       "       [0],\n",
       "       [0],\n",
       "       [0],\n",
       "       [0],\n",
       "       [1],\n",
       "       [1],\n",
       "       [1],\n",
       "       [1],\n",
       "       [1],\n",
       "       [0],\n",
       "       [1],\n",
       "       [0],\n",
       "       [0],\n",
       "       [1],\n",
       "       [1],\n",
       "       [1],\n",
       "       [1],\n",
       "       [0],\n",
       "       [1],\n",
       "       [0],\n",
       "       [1],\n",
       "       [1],\n",
       "       [1],\n",
       "       [1],\n",
       "       [0],\n",
       "       [0],\n",
       "       [0],\n",
       "       [1],\n",
       "       [0],\n",
       "       [1],\n",
       "       [1],\n",
       "       [1],\n",
       "       [0],\n",
       "       [0],\n",
       "       [0],\n",
       "       [0],\n",
       "       [0],\n",
       "       [0],\n",
       "       [1],\n",
       "       [0],\n",
       "       [0],\n",
       "       [0],\n",
       "       [0],\n",
       "       [0],\n",
       "       [1],\n",
       "       [1],\n",
       "       [0],\n",
       "       [0],\n",
       "       [0],\n",
       "       [1],\n",
       "       [1],\n",
       "       [0],\n",
       "       [1],\n",
       "       [0],\n",
       "       [1],\n",
       "       [1],\n",
       "       [1],\n",
       "       [1],\n",
       "       [0],\n",
       "       [0],\n",
       "       [0],\n",
       "       [0],\n",
       "       [0],\n",
       "       [1],\n",
       "       [0],\n",
       "       [0],\n",
       "       [1],\n",
       "       [0],\n",
       "       [1],\n",
       "       [0],\n",
       "       [0],\n",
       "       [1],\n",
       "       [0],\n",
       "       [0],\n",
       "       [0],\n",
       "       [0],\n",
       "       [0],\n",
       "       [1],\n",
       "       [1],\n",
       "       [0],\n",
       "       [1],\n",
       "       [0],\n",
       "       [1],\n",
       "       [1],\n",
       "       [0],\n",
       "       [0],\n",
       "       [0],\n",
       "       [0],\n",
       "       [0],\n",
       "       [0],\n",
       "       [0],\n",
       "       [1],\n",
       "       [1],\n",
       "       [1],\n",
       "       [0],\n",
       "       [0],\n",
       "       [1],\n",
       "       [1],\n",
       "       [0],\n",
       "       [0],\n",
       "       [0],\n",
       "       [0],\n",
       "       [0],\n",
       "       [0],\n",
       "       [1],\n",
       "       [0],\n",
       "       [1],\n",
       "       [1],\n",
       "       [1],\n",
       "       [0],\n",
       "       [0],\n",
       "       [0],\n",
       "       [0],\n",
       "       [1],\n",
       "       [0],\n",
       "       [0],\n",
       "       [0],\n",
       "       [0],\n",
       "       [0],\n",
       "       [0],\n",
       "       [0],\n",
       "       [1],\n",
       "       [0],\n",
       "       [1],\n",
       "       [1],\n",
       "       [1],\n",
       "       [1],\n",
       "       [0],\n",
       "       [1],\n",
       "       [1],\n",
       "       [0],\n",
       "       [1],\n",
       "       [1],\n",
       "       [0],\n",
       "       [0],\n",
       "       [1],\n",
       "       [0],\n",
       "       [0],\n",
       "       [1],\n",
       "       [0],\n",
       "       [1],\n",
       "       [0],\n",
       "       [1],\n",
       "       [1],\n",
       "       [0],\n",
       "       [0],\n",
       "       [1],\n",
       "       [0],\n",
       "       [0],\n",
       "       [0],\n",
       "       [0],\n",
       "       [0],\n",
       "       [0],\n",
       "       [1],\n",
       "       [0],\n",
       "       [0],\n",
       "       [1],\n",
       "       [0],\n",
       "       [0],\n",
       "       [0],\n",
       "       [0],\n",
       "       [1],\n",
       "       [1],\n",
       "       [0],\n",
       "       [1],\n",
       "       [0],\n",
       "       [1],\n",
       "       [1],\n",
       "       [1],\n",
       "       [0],\n",
       "       [1],\n",
       "       [0],\n",
       "       [0],\n",
       "       [1],\n",
       "       [1],\n",
       "       [0],\n",
       "       [1],\n",
       "       [0],\n",
       "       [0],\n",
       "       [0],\n",
       "       [1],\n",
       "       [1],\n",
       "       [1],\n",
       "       [0],\n",
       "       [0],\n",
       "       [0],\n",
       "       [0],\n",
       "       [1],\n",
       "       [0],\n",
       "       [0],\n",
       "       [1],\n",
       "       [1],\n",
       "       [1],\n",
       "       [1],\n",
       "       [0],\n",
       "       [1],\n",
       "       [0],\n",
       "       [0],\n",
       "       [1],\n",
       "       [0],\n",
       "       [0],\n",
       "       [1],\n",
       "       [0],\n",
       "       [1],\n",
       "       [0],\n",
       "       [0],\n",
       "       [0],\n",
       "       [1],\n",
       "       [1],\n",
       "       [0],\n",
       "       [0],\n",
       "       [0],\n",
       "       [1],\n",
       "       [0],\n",
       "       [0],\n",
       "       [1],\n",
       "       [0],\n",
       "       [0],\n",
       "       [0],\n",
       "       [0],\n",
       "       [1],\n",
       "       [0],\n",
       "       [1],\n",
       "       [0],\n",
       "       [0],\n",
       "       [1],\n",
       "       [0],\n",
       "       [0],\n",
       "       [0],\n",
       "       [0],\n",
       "       [0],\n",
       "       [0],\n",
       "       [1],\n",
       "       [1],\n",
       "       [0],\n",
       "       [0],\n",
       "       [0],\n",
       "       [0],\n",
       "       [0]], dtype=int32)"
      ]
     },
     "execution_count": 36,
     "metadata": {},
     "output_type": "execute_result"
    }
   ],
   "source": [
    "newmodel.predict_classes(scale_X_test)"
   ]
  },
  {
   "cell_type": "code",
   "execution_count": null,
   "id": "03c38e13-bd83-4dfe-8b51-02dadd7b308a",
   "metadata": {},
   "outputs": [],
   "source": []
  }
 ],
 "metadata": {
  "kernelspec": {
   "display_name": "Python 3",
   "language": "python",
   "name": "python3"
  },
  "language_info": {
   "codemirror_mode": {
    "name": "ipython",
    "version": 3
   },
   "file_extension": ".py",
   "mimetype": "text/x-python",
   "name": "python",
   "nbconvert_exporter": "python",
   "pygments_lexer": "ipython3",
   "version": "3.8.8"
  }
 },
 "nbformat": 4,
 "nbformat_minor": 5
}
