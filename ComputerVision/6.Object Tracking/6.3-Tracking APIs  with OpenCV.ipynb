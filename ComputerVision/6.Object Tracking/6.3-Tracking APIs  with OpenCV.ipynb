{
 "cells": [
  {
   "cell_type": "markdown",
   "id": "c913f807-c8cf-4b33-89ca-6c95c877edfb",
   "metadata": {},
   "source": [
    "# Tracking APIs ( Built-in with OpenCV)"
   ]
  },
  {
   "cell_type": "markdown",
   "id": "b80a8343-3571-49cd-99a2-7a1daf70dbe8",
   "metadata": {},
   "source": [
    "- BOOSTING TRACKER\n",
    "- MIL TRACKER\n",
    "- KCF TRACKER (Great first choice!)\n",
    "- TLD TRACKER\n",
    "- MedianFlow TRACKER"
   ]
  },
  {
   "cell_type": "code",
   "execution_count": 1,
   "id": "fd36e8cf-ca43-42b4-ac6a-710c406e8692",
   "metadata": {},
   "outputs": [],
   "source": [
    "import cv2"
   ]
  },
  {
   "cell_type": "code",
   "execution_count": 2,
   "id": "81c4bbd6-7a88-42f7-a09c-352c25264603",
   "metadata": {},
   "outputs": [],
   "source": [
    "def ask_for_tracker():\n",
    "    print(\"Welcome! What Tracker API would you like to use?\")\n",
    "    print(\"Enter 0 for BOOSTING: \")\n",
    "    print(\"Enter 1 for MIL: \")\n",
    "    print(\"Enter 2 for KCF: \")\n",
    "    print(\"Enter 3 for TLD: \")\n",
    "    print(\"Enter 4 for MEDIANFLOW: \")\n",
    "    choice = input(\"Please select your tracker: \")\n",
    "    \n",
    "    if choice == '0':\n",
    "        tracker = cv2.TrackerBoosting_create()\n",
    "    if choice == '1':\n",
    "        tracker = cv2.TrackerMIL_create()\n",
    "    if choice == '2':\n",
    "        tracker = cv2.TrackerKCF_create()\n",
    "    if choice == '3':\n",
    "        tracker = cv2.TrackerTLD_create()\n",
    "    if choice == '4':\n",
    "        tracker = cv2.TrackerMedianFlow_create()\n",
    "    return tracker"
   ]
  },
  {
   "cell_type": "code",
   "execution_count": 3,
   "id": "477dc60a-fdac-46bb-bb50-46c2363df0e5",
   "metadata": {},
   "outputs": [],
   "source": [
    "# tracker = ask_for_tracker()"
   ]
  },
  {
   "cell_type": "code",
   "execution_count": 4,
   "id": "51ee3d77-9643-4bde-894f-76882b96905f",
   "metadata": {},
   "outputs": [],
   "source": [
    "# tracker"
   ]
  },
  {
   "cell_type": "code",
   "execution_count": 5,
   "id": "a763ad33-749e-476d-abf1-a054b710156e",
   "metadata": {},
   "outputs": [],
   "source": [
    "# str(tracker).split()[0][1:]"
   ]
  },
  {
   "cell_type": "code",
   "execution_count": null,
   "id": "9fc4a3bf-be7c-4e8c-a42f-ea42357fec16",
   "metadata": {},
   "outputs": [],
   "source": [
    "tracker = ask_for_tracker()\n",
    "tracker_name = str(tracker).split()[0][1:]\n",
    "\n",
    "cap = cv2.VideoCapture(0)\n",
    "ret, frame = cap.read()\n",
    "\n",
    "# Special function allows us to draw on the very first frame our desired ROI\n",
    "roi = cv2.selectROI(frame, False)\n",
    "\n",
    "# Initialize tracker with first frame and bounding box\n",
    "\n",
    "ret = tracker.init(frame, roi)\n",
    "\n",
    "while True:\n",
    "    \n",
    "    ret, frame = cap.read()\n",
    "    success, roi = tracker.update(frame)\n",
    "    \n",
    "    # roi variable is a tuple of 4 floats\n",
    "    # We need each value and we need them as integers\n",
    "    (x,y,w,h) = tuple(map(int, roi))\n",
    "    \n",
    "    # Draw Rectangle as Tracker moves\n",
    "    if success:\n",
    "        p1 = (x,y)\n",
    "        p2 = (x+w, y+h)\n",
    "        cv2.rectangle(frame, p1,p2, (0,255,0), 3)\n",
    "    else:\n",
    "        cv2.putText(frame, 'Failure to DEtect Tracking' , (100,100), cv2.FONT_HERSHEY_SIMPLEX, 1, (0,255,0),3)\n",
    "    \n",
    "    \n",
    "    cv2.putText(frame, tracker_name , (20,400), cv2.FONT_HERSHEY_SIMPLEX, 1, (0,255,0),3)\n",
    "    \n",
    "    # Display result\n",
    "    cv2.imshow(tracker_name, frame)\n",
    "\n",
    "    # Exit if ESC pressed\n",
    "    k = cv2.waitKey(1) & 0xff\n",
    "    if k == 27 : \n",
    "        break\n",
    "    \n",
    "        \n",
    "cap.release()\n",
    "# cv2.destroyAllWindows()"
   ]
  }
 ],
 "metadata": {
  "kernelspec": {
   "display_name": "Python 3",
   "language": "python",
   "name": "python3"
  },
  "language_info": {
   "codemirror_mode": {
    "name": "ipython",
    "version": 3
   },
   "file_extension": ".py",
   "mimetype": "text/x-python",
   "name": "python",
   "nbconvert_exporter": "python",
   "pygments_lexer": "ipython3",
   "version": "3.6.6"
  }
 },
 "nbformat": 4,
 "nbformat_minor": 5
}
