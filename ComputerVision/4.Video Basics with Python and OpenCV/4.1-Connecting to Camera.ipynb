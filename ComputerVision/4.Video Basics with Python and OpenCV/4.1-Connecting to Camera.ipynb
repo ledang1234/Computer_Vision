{
 "cells": [
  {
   "cell_type": "markdown",
   "id": "d2990f15-78a2-49ea-9a8a-bf5498e0401f",
   "metadata": {},
   "source": [
    "# OpenCV Connecting to a USB Camera or a Laptop Camera\n",
    "Notebook Users may need to restart the kernel after closing the camera window!"
   ]
  },
  {
   "cell_type": "code",
   "execution_count": 2,
   "id": "bbbea9de-1a34-4e34-9634-dc1d0279171f",
   "metadata": {},
   "outputs": [],
   "source": [
    "## PUT THIS ALL IN ONE CELL!\n",
    "import cv2\n",
    " \n",
    "cap = cv2.VideoCapture(0)\n",
    "\n",
    "width = int(cap.get(cv2.CAP_PROP_FRAME_WIDTH)) #1080.0\n",
    "height = int(cap.get(cv2.CAP_PROP_FRAME_HEIGHT))\n",
    "\n",
    "\n",
    "# MACOS AND LINUX: *'XVID' (MacOS users may want to try VIDX as well just in case)\n",
    "# WINDOWS *'VIDX'\n",
    "writer = cv2.VideoWriter('myvideo.mp4',cv2.VideoWriter_fourcc(*'XVID'),20, (width,height))\n",
    "\n",
    "\n",
    "while True:\n",
    "    ret, frame = cap.read()\n",
    "    \n",
    "    #OPERATIONS (DRAWING)\n",
    "    writer.write(frame)\n",
    "    \n",
    "    \n",
    "    #gray = cv2.cvtColor(frame, cv2.COLOR_BGR2GRAY)\n",
    "    #cv2.imshow('frame',gray)\n",
    "    cv2.imshow('frame',frame)\n",
    "    if cv2.waitKey(1) & 0xFF == 27:#0xFF == ord('q')\n",
    "        break\n",
    "        \n",
    "cap.release()\n",
    "writer.release()\n",
    "cv2.destroyAllWindows()"
   ]
  },
  {
   "cell_type": "code",
   "execution_count": 1,
   "id": "cb511d92-0459-482a-8a4f-95ca1f76e1b0",
   "metadata": {},
   "outputs": [
    {
     "data": {
      "text/plain": [
       "'/Users/GiaLePhuongg/Desktop/ComputerVision/4.Video Basics with Python and OpenCV'"
      ]
     },
     "execution_count": 1,
     "metadata": {},
     "output_type": "execute_result"
    }
   ],
   "source": [
    "pwd"
   ]
  },
  {
   "cell_type": "markdown",
   "id": "eaa255c3-19af-4d35-a1ec-722b7cbd6082",
   "metadata": {},
   "source": [
    "## Writing a Video Stream to File"
   ]
  }
 ],
 "metadata": {
  "kernelspec": {
   "display_name": "Python 3",
   "language": "python",
   "name": "python3"
  },
  "language_info": {
   "codemirror_mode": {
    "name": "ipython",
    "version": 3
   },
   "file_extension": ".py",
   "mimetype": "text/x-python",
   "name": "python",
   "nbconvert_exporter": "python",
   "pygments_lexer": "ipython3",
   "version": "3.8.8"
  }
 },
 "nbformat": 4,
 "nbformat_minor": 5
}
