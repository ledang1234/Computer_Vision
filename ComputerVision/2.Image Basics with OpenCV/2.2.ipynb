{
 "cells": [
  {
   "cell_type": "code",
   "execution_count": 1,
   "id": "a8b6d896-d173-42c0-bb4b-d0edfe3e979b",
   "metadata": {},
   "outputs": [
    {
     "data": {
      "text/plain": [
       "32"
      ]
     },
     "execution_count": 1,
     "metadata": {},
     "output_type": "execute_result"
    }
   ],
   "source": [
    "import cv2   #the same cell\n",
    "\n",
    "img = cv2.imread('../DATA/00-puppy.jpg')\n",
    "cv2.imshow('Puppy',img)\n",
    "cv2.waitKey()\n",
    "\n",
    "#restart kernel"
   ]
  },
  {
   "cell_type": "code",
   "execution_count": null,
   "id": "66cb3826-d4a9-4770-853d-61980b7722f0",
   "metadata": {},
   "outputs": [],
   "source": []
  }
 ],
 "metadata": {
  "kernelspec": {
   "display_name": "Python 3",
   "language": "python",
   "name": "python3"
  },
  "language_info": {
   "codemirror_mode": {
    "name": "ipython",
    "version": 3
   },
   "file_extension": ".py",
   "mimetype": "text/x-python",
   "name": "python",
   "nbconvert_exporter": "python",
   "pygments_lexer": "ipython3",
   "version": "3.6.6"
  }
 },
 "nbformat": 4,
 "nbformat_minor": 5
}
