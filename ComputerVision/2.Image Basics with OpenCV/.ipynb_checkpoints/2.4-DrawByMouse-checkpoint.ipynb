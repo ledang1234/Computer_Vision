{
 "cells": [
  {
   "cell_type": "markdown",
   "id": "3735ceac-f283-4f16-aaa8-670b44adde5a",
   "metadata": {},
   "source": [
    "### 3 part\n",
    "- connect callback func\n",
    "- add func through event\n",
    "- Drag the mouse for func"
   ]
  },
  {
   "cell_type": "markdown",
   "id": "af3edf39-0ba2-4106-997b-608d8aca2a65",
   "metadata": {},
   "source": [
    "# Direct Drawing with Mouse"
   ]
  },
  {
   "cell_type": "markdown",
   "id": "5b6e8e8d-1a3a-4413-8cc4-9fea8dc30cd4",
   "metadata": {},
   "source": [
    "## SCRIPT 1: Connecting a Function for Drawing\n",
    "## SCRIPT 2: Adding Functionality with Event Choices"
   ]
  },
  {
   "cell_type": "code",
   "execution_count": 1,
   "id": "81eee788-0f31-4743-9636-dee02b1883f7",
   "metadata": {},
   "outputs": [],
   "source": [
    "import cv2\n",
    "import numpy as np\n",
    "\n",
    "#################\n",
    "### FUCNTION ####\n",
    "#################\n",
    "\n",
    "def  draw_circle(event, x,y,flags,param):\n",
    "    if event == cv2.EVENT_LBUTTONDOWN:\n",
    "        cv2.circle(img,(x,y),50,(0,255,0),-1)\n",
    "    elif event == cv2.EVENT_RBUTTONDOWN:\n",
    "        cv2.circle(img,(x,y),50,(255,0,0),-1)\n",
    "            \n",
    "cv2.namedWindow(winname='my_drawing')\n",
    "\n",
    "cv2.setMouseCallback('my_drawing',draw_circle)\n",
    "\n",
    "\n",
    "#################################\n",
    "### SHOWING IMAGE WITH OPENCV ###\n",
    "#################################\n",
    "\n",
    "# img = np.zeros((512,512,3),np.int8)\n",
    "img = np.zeros((512,512,3))\n",
    "while True:\n",
    "    cv2.imshow('my_drawing',img)\n",
    "    if cv2.waitKey(1)& 0xFF == 27:\n",
    "        break\n",
    "cv2.destroyAllWindows()"
   ]
  },
  {
   "cell_type": "markdown",
   "id": "86247a3c-90eb-4edf-a3f8-bc48883eb4b4",
   "metadata": {},
   "source": [
    "## SCRIPT 3: Dragging with Mouse"
   ]
  },
  {
   "cell_type": "code",
   "execution_count": null,
   "id": "e9c8cb49-e9b6-4c8f-91d8-af3baf95867b",
   "metadata": {},
   "outputs": [],
   "source": [
    "import cv2\n",
    "import numpy as np\n",
    "\n",
    "## VARIABLES\n",
    "\n",
    "#True while mose button down - False while up\n",
    "drawing = False\n",
    "ix = -1\n",
    "iy = -1\n",
    "\n",
    "## FUNCTION\n",
    "def draw_rectangle(event, x,y,flags, params):\n",
    "    global ix, iy, drawing\n",
    "    \n",
    "    if  event == cv2.EVENT_LBUTTONDOWN:\n",
    "        drawing = True\n",
    "        ix,iy = x,y\n",
    "    elif  event == cv2.EVENT_MOUSEMOVE:\n",
    "        if drawing == True:\n",
    "            cv2.rectangle(img, (ix,iy),(255,0,0),-1)\n",
    "    \n",
    "    elif event == cv2.EVENT_LBUTTONUP:\n",
    "        drawing = False\n",
    "        cv2.rectangle(img, (ix,iy),(255,0,0),-1)\n",
    "    \n",
    "\n",
    "## SHOWING THE IMAGE\n",
    "\n",
    "## BLACK\n",
    "img = np.zeros((512,512,3))\n",
    "cv2.namedWindow(winname='my_drawing_1')\n",
    "cv2.setMouseCallback('my_drawing_1',draw_rectangle)\n",
    "\n",
    "while True:\n",
    "    cv2.imshow('my_drawing_1',img)\n",
    "    if cv2.waitKey(1)& 0xFF == 27:\n",
    "        break\n",
    "cv2.destroyAllWindows()"
   ]
  },
  {
   "cell_type": "code",
   "execution_count": null,
   "id": "162d55d9-4c47-47b6-bed8-e0f3a14e37cb",
   "metadata": {},
   "outputs": [],
   "source": []
  },
  {
   "cell_type": "code",
   "execution_count": null,
   "id": "c37d051c-8bb8-4300-a4e6-c46904490c2d",
   "metadata": {},
   "outputs": [],
   "source": []
  }
 ],
 "metadata": {
  "kernelspec": {
   "display_name": "Python 3",
   "language": "python",
   "name": "python3"
  },
  "language_info": {
   "codemirror_mode": {
    "name": "ipython",
    "version": 3
   },
   "file_extension": ".py",
   "mimetype": "text/x-python",
   "name": "python",
   "nbconvert_exporter": "python",
   "pygments_lexer": "ipython3",
   "version": "3.8.8"
  }
 },
 "nbformat": 4,
 "nbformat_minor": 5
}
