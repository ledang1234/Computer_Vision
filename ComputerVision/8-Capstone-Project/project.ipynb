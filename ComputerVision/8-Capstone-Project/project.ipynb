{
 "cells": [
  {
   "cell_type": "markdown",
   "id": "bd1cc9ac-2196-45aa-af49-32cdc7d88ef8",
   "metadata": {},
   "source": [
    "# Capstone Project\n",
    "\n",
    "## Finger Detection and Counting"
   ]
  },
  {
   "cell_type": "markdown",
   "id": "bde1ae51-1713-4fce-8093-9a9b6d710052",
   "metadata": {},
   "source": [
    "## Imports"
   ]
  },
  {
   "cell_type": "code",
   "execution_count": 1,
   "id": "2e4d910e-0e4a-417b-ba98-18d6194ccd2a",
   "metadata": {},
   "outputs": [],
   "source": [
    "import cv2\n",
    "import numpy as np\n",
    "\n",
    "from sklearn.metrics import pairwise\n"
   ]
  },
  {
   "cell_type": "markdown",
   "id": "8e09130d-307e-4000-b283-495915dc1c50",
   "metadata": {},
   "source": [
    "### Global Variables\n",
    "\n",
    "We will use these as we go along."
   ]
  },
  {
   "cell_type": "code",
   "execution_count": 2,
   "id": "8514b960-187c-4c84-b2c6-e95ee789cbec",
   "metadata": {},
   "outputs": [],
   "source": [
    "background = None\n",
    "\n",
    "accumulated_weight = 0.5\n",
    "\n",
    "roi_top = 20\n",
    "roi_bottom = 300\n",
    "roi_right = 300\n",
    "roi_left = 600"
   ]
  },
  {
   "cell_type": "code",
   "execution_count": null,
   "id": "13cfaf2f-edd4-4746-99b8-5024abf1655c",
   "metadata": {},
   "outputs": [],
   "source": []
  },
  {
   "cell_type": "markdown",
   "id": "7a5040c3-02eb-40e3-adb3-8e502776762b",
   "metadata": {},
   "source": [
    "## Finding Average Background Value\n",
    "\n",
    "The function calculates the weighted sum of the input image src and the accumulator dst so that dst becomes a running average of a frame sequence:"
   ]
  },
  {
   "cell_type": "code",
   "execution_count": 3,
   "id": "e6ef7805-3d9f-465b-a92d-ec23380ddd6e",
   "metadata": {},
   "outputs": [],
   "source": [
    "def calc_accum_avg(frame, accumulated_weight):\n",
    "    global background\n",
    "    \n",
    "    if background is None:\n",
    "        background = frame.copy().astype('float')\n",
    "        return None\n",
    "    cv2.accumulateWeighted(frame, background, accumulated_weight)\n",
    "        "
   ]
  },
  {
   "cell_type": "markdown",
   "id": "f8c0d299-3729-4061-a12f-8b26fa31c9e6",
   "metadata": {},
   "source": [
    "## Segment the Hand Region in Frame"
   ]
  },
  {
   "cell_type": "code",
   "execution_count": 4,
   "id": "f2709585-3a25-4311-9601-3056b236db00",
   "metadata": {},
   "outputs": [],
   "source": [
    "def segment(frame, threshold_min=25):\n",
    "    \n",
    "    diff = cv2.absdiff(background.astype('uint8'), frame)\n",
    "    \n",
    "    ret, thresholded = cv2.threshold(diff, threshold_min, 255, cv2.THRESH_BINARY)\n",
    "    \n",
    "    image, contours , hierarchy - cv2.findContours(thresholded.copy(), cv2.RETR_EXTERNAL, cv2.CHAIN_APPROX_SIMPLE)\n",
    "    \n",
    "    if len(contours ) == 0:\n",
    "        return None\n",
    "    else:\n",
    "         # ASSUMING THE LARGEST EXTERNAL CONTOUR IN ROI, IS THE HAND\n",
    "        hand_segment = max(contours, key=cv2.contourArea)\n",
    "        \n",
    "        return (thresholded, hand_segment)\n",
    "        "
   ]
  },
  {
   "cell_type": "markdown",
   "id": "c49c4873-3fa8-49d4-bed5-53b9c3c1cb73",
   "metadata": {},
   "source": [
    "## Counting Fingers with a Convex Hull\n",
    "\n",
    "We just calculated the external contour of the hand. Now using that segmented hand, let's see how to calculate fingers. Then we can count how many are up!\n",
    "\n",
    "Example of ConvexHulls:"
   ]
  },
  {
   "cell_type": "code",
   "execution_count": 5,
   "id": "74306202-0392-42f7-9b40-8e917415b4db",
   "metadata": {},
   "outputs": [],
   "source": [
    "def count_fingers(thresholded,hand_segment):\n",
    "    \n",
    "    conv_hull = cv2.convexHull(hand_segment)\n",
    "    \n",
    "    # TOP\n",
    "    top = tuple(conv_hull[conv_hull[:,:,1].argmin()[0]])\n",
    "    bottom =  tuple(conv_hull[conv_hull[:,:,1].argmax()[0]])\n",
    "    left = tuple(conv_hull[conv_hull[:,:,0].argmin()[0]])\n",
    "    right =  tuple(conv_hull[conv_hull[:,:,0].argmax()[0]])\n",
    "    \n",
    "    cX = (left[0] + right[0]) // 2\n",
    "    cy = (left[1] + right[1]) // 2\n",
    "    \n",
    "    distance = pairwise.euclidean_distances([cX, cY], Y=[left, right, top, bottom])[0]\n",
    "    \n",
    "    max_distance= distance.max()\n",
    "    \n",
    "    \n",
    "    # Create a circle with 90% radius of the max euclidean distance\n",
    "    radius = int(0.9* max_distance)\n",
    "    \n",
    "    circumfrence = (2*np.pi*radius)\n",
    "    \n",
    "    # Not grab an ROI of only that circle\n",
    "    circular_roi = np.zeros(thresholded[:2], dtype='uint8')\n",
    "    \n",
    "     # draw the circular ROI\n",
    "    cv2.circle(circular_roi, (cX, cY), radius, 255, 10)\n",
    "    \n",
    "    # Using bit-wise AND with the cirle ROI as a mask.\n",
    "    # This then returns the cut out obtained using the mask on the thresholded hand image.\n",
    "    circular_roi = cv2.bitwise_and(thresholded,thresholded, mask=circular_roi)\n",
    "    \n",
    "    # Grab contours in circle ROI\n",
    "    image, contours, hierarchy = cv2.findContours(circular_roi.copy(), cv2.RETR_EXTERNAL, cv2.CHAIN_APPROX_NONE)\n",
    "    \n",
    "    count = 0\n",
    "    \n",
    "    for cnt in coutours:\n",
    "        (x,y,w,h)  = cv2.boundingRect(cnt)\n",
    "        \n",
    "        # Increment count of fingers based on two conditions:\n",
    "        \n",
    "        # 1. Contour region is not the very bottom of hand area (the wrist)\n",
    "        out_of_wrist =  (cY  + (cY*0.25)) > (y+h)\n",
    "        \n",
    "         # 2. Number of points along the contour does not exceed 25% of the circumference of the circular ROI (otherwise we're counting points off the hand)\n",
    "        limit_points = ((circumference * 0.25) > cnt.shape[0])\n",
    "        \n",
    "        if out_of_wrist and limit_points:\n",
    "            count +=1\n",
    "            \n",
    "    return count"
   ]
  },
  {
   "cell_type": "markdown",
   "id": "f9af3966-bb65-4743-af62-7b5defe449ba",
   "metadata": {},
   "source": [
    "## Run Program"
   ]
  },
  {
   "cell_type": "code",
   "execution_count": null,
   "id": "060e36b0-5082-4067-b908-dd030516a6f1",
   "metadata": {},
   "outputs": [],
   "source": [
    "cam = cv2.VideoCapture(0)\n",
    "\n",
    "num_frames = 0\n",
    "\n",
    "while True:\n",
    "    ret, frame = cam.read()\n",
    "    \n",
    "    frame_copy = frame.copy()\n",
    "    \n",
    "    roi = frame[roi_top:roi_bottom,roi_right:roi_left]\n",
    "    \n",
    "    gray = cv2.cvtColor(roi, cv2.COLOR_BGR2GRAY)\n",
    "    \n",
    "    gray =  cv2.GaussianBlur(gray,(7,7),0)\n",
    "    \n",
    "    if num_frames < 60:\n",
    "        calc_accum_avg(gray ,accumulated_weight )\n",
    "        if num_frames < 59:\n",
    "            cv2.putText(frame_copy, 'WAIT. GETTING BACKGROUNG' , (200,200), cv2.FONT_HERSHEY_SIMPLEX, 1 , (0,0,255), 2)\n",
    "            cv2.imshow('Finger Count', frame_copy)\n",
    "        else:\n",
    "            hand = segment(gray)\n",
    "            \n",
    "            if hand is not None:\n",
    "                \n",
    "                thresholded, hand_segment = hand\n",
    "                \n",
    "                # DRAWS CONTOURS AROUND REAL HAND IN LIVE STREAM\n",
    "                cv2.drawContours(frame_copy, [hand_segment+(roi_right,roi_top)] ,-1,(255,0,0),5)\n",
    "                \n",
    "                fingers = count_fingers(thresholded, hand_segment)\n",
    "                \n",
    "                cv2.putText(frame_copy, str(fingers), (70,70), cv2.FONT_HERSHEY_SIMPLEX, 1, (0,0,255),2)\n",
    "                \n",
    "                cv2.imshow('Thresholded',thresholded)\n",
    "        cv2.rectangle(frame_copy, (roi_left,roi_top), (roi_right,roi_bottom), (0,0,255),5)\n",
    "        \n",
    "        cv2.imshow('Finger Count', frame_copy)\n",
    "        \n",
    "        k = cv2.waitKey(1) & 0xFF\n",
    "    \n",
    "        if k == 27:\n",
    "            break\n",
    "        \n",
    "cam.release()\n",
    "cv2.destroyAllWindows()\n",
    "                \n",
    "    \n",
    "    "
   ]
  },
  {
   "cell_type": "code",
   "execution_count": null,
   "id": "e162c6fa-83b1-4d72-a3e4-5193dc1be946",
   "metadata": {},
   "outputs": [],
   "source": []
  }
 ],
 "metadata": {
  "kernelspec": {
   "display_name": "Python 3",
   "language": "python",
   "name": "python3"
  },
  "language_info": {
   "codemirror_mode": {
    "name": "ipython",
    "version": 3
   },
   "file_extension": ".py",
   "mimetype": "text/x-python",
   "name": "python",
   "nbconvert_exporter": "python",
   "pygments_lexer": "ipython3",
   "version": "3.6.6"
  }
 },
 "nbformat": 4,
 "nbformat_minor": 5
}
